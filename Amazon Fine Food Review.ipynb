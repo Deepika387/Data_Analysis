{
 "cells": [
  {
   "cell_type": "markdown",
   "id": "54cb0ebf",
   "metadata": {},
   "source": [
    "# Sentiment Analysis"
   ]
  },
  {
   "cell_type": "markdown",
   "id": "f5e752d2",
   "metadata": {},
   "source": [
    "# Basic Libraries"
   ]
  },
  {
   "cell_type": "code",
   "execution_count": null,
   "id": "e7e2e384",
   "metadata": {},
   "outputs": [],
   "source": [
    "import numpy as np\n",
    "import pandas as pd\n",
    "import matplotlib.pyplot as plt\n",
    "%matplotlib inline"
   ]
  },
  {
   "cell_type": "code",
   "execution_count": null,
   "id": "653effc7",
   "metadata": {},
   "outputs": [],
   "source": [
    "df = pd.read_csv('Reviews.csv')"
   ]
  },
  {
   "cell_type": "markdown",
   "id": "c68a6a43",
   "metadata": {},
   "source": [
    "# .head()"
   ]
  },
  {
   "cell_type": "code",
   "execution_count": null,
   "id": "976b2d9c",
   "metadata": {},
   "outputs": [],
   "source": [
    "df.head()"
   ]
  },
  {
   "cell_type": "markdown",
   "id": "2ee83ff3",
   "metadata": {},
   "source": [
    "# .info()"
   ]
  },
  {
   "cell_type": "code",
   "execution_count": null,
   "id": "5140bb5f",
   "metadata": {},
   "outputs": [],
   "source": [
    "df.info()"
   ]
  },
  {
   "cell_type": "markdown",
   "id": "64b22edb",
   "metadata": {},
   "source": [
    "# .Summary.head()"
   ]
  },
  {
   "cell_type": "code",
   "execution_count": null,
   "id": "2363cb1e",
   "metadata": {},
   "outputs": [],
   "source": [
    "df.Summary.head()"
   ]
  },
  {
   "cell_type": "markdown",
   "id": "b96b8c0f",
   "metadata": {},
   "source": [
    "# .Text"
   ]
  },
  {
   "cell_type": "code",
   "execution_count": null,
   "id": "964bee54",
   "metadata": {},
   "outputs": [],
   "source": [
    "df.Text.head()"
   ]
  },
  {
   "cell_type": "markdown",
   "id": "9b87618d",
   "metadata": {},
   "source": [
    "# Text Preprocessing"
   ]
  },
  {
   "cell_type": "code",
   "execution_count": null,
   "id": "61d1631a",
   "metadata": {},
   "outputs": [],
   "source": [
    "pip install textblob"
   ]
  },
  {
   "cell_type": "code",
   "execution_count": null,
   "id": "11da1b20",
   "metadata": {},
   "outputs": [],
   "source": [
    "from nltk.corpus import stopwords \n",
    "from textblob import TextBlob\n",
    "from textblob import Word\n",
    "# Lower casing and removing punctuations\n",
    "\n",
    "df['Text'] = df['Text'].apply(lambda x: \" \".join(x.lower() for\n",
    "x in x.split()))"
   ]
  },
  {
   "cell_type": "code",
   "execution_count": null,
   "id": "c538f728",
   "metadata": {},
   "outputs": [],
   "source": [
    "string = \"yoo the food was delicious \""
   ]
  },
  {
   "cell_type": "code",
   "execution_count": null,
   "id": "fb26fa48",
   "metadata": {},
   "outputs": [],
   "source": [
    "print(string.replace(\"delicious\", \"Yummy\"))  "
   ]
  },
  {
   "cell_type": "markdown",
   "id": "338242d7",
   "metadata": {},
   "source": [
    "# Removal of Stop Words"
   ]
  },
  {
   "cell_type": "code",
   "execution_count": null,
   "id": "0d85bd27",
   "metadata": {},
   "outputs": [],
   "source": [
    " \n",
    "stop = stopwords.words('english')\n",
    "df['Text'] = df['Text'].apply(lambda x: \" \".join(x for x in\n",
    "x.split() if x not in stop))\n",
    "df.Text.head()"
   ]
  },
  {
   "cell_type": "markdown",
   "id": "6da1b6f1",
   "metadata": {},
   "source": [
    "# Spelling Correction"
   ]
  },
  {
   "cell_type": "markdown",
   "id": "c9edbfc0",
   "metadata": {},
   "source": [
    "# Lemmatization"
   ]
  },
  {
   "cell_type": "code",
   "execution_count": null,
   "id": "256de2fb",
   "metadata": {},
   "outputs": [],
   "source": [
    "df['Text'] = df['Text'].apply(lambda x: \" \".join([Word(word).lemmatize() for word in x.split()]))\n",
    "df.Text.head()"
   ]
  },
  {
   "cell_type": "markdown",
   "id": "c3d7e56d",
   "metadata": {},
   "source": [
    "# Look at the Summary Text using wordcloud"
   ]
  },
  {
   "cell_type": "code",
   "execution_count": null,
   "id": "11b9aa44",
   "metadata": {},
   "outputs": [],
   "source": [
    "pip install wordcloud"
   ]
  },
  {
   "cell_type": "code",
   "execution_count": null,
   "id": "e6b672e3",
   "metadata": {},
   "outputs": [],
   "source": [
    "from wordcloud import WordCloud\n",
    "from wordcloud import STOPWORDS"
   ]
  },
  {
   "cell_type": "code",
   "execution_count": null,
   "id": "4f743337",
   "metadata": {},
   "outputs": [],
   "source": [
    "from wordcloud import WordCloud\n",
    "from wordcloud import STOPWORDS"
   ]
  },
  {
   "cell_type": "code",
   "execution_count": null,
   "id": "e29f6def",
   "metadata": {},
   "outputs": [],
   "source": [
    "df.Score.value_counts()"
   ]
  },
  {
   "cell_type": "code",
   "execution_count": null,
   "id": "ffc0ee89",
   "metadata": {},
   "outputs": [],
   "source": [
    "sns.countplot(data = df, x = 'Score')"
   ]
  },
  {
   "cell_type": "code",
   "execution_count": null,
   "id": "c06a60c1",
   "metadata": {},
   "outputs": [],
   "source": [
    "# Create a new data frame \"reviews\" to perform exploratory data analysis upon that\n",
    "reviews = df\n",
    "# Dropping null values\n",
    "reviews.dropna(inplace=True)"
   ]
  },
  {
   "cell_type": "code",
   "execution_count": null,
   "id": "626e6061",
   "metadata": {},
   "outputs": [],
   "source": [
    "score_1 = reviews[reviews['Score'] == 1]\n",
    "score_2 = reviews[reviews['Score'] == 2]\n",
    "score_3 = reviews[reviews['Score'] == 3]\n",
    "score_4 = reviews[reviews['Score'] == 4]\n",
    "score_5 = reviews[reviews['Score'] == 5]"
   ]
  },
  {
   "cell_type": "code",
   "execution_count": null,
   "id": "151a3a46",
   "metadata": {},
   "outputs": [],
   "source": [
    "reviews_sample = pd.concat([score_1,score_2,score_3,score_4,score_5],axis=0)\n",
    "reviews_sample.reset_index(drop=True,inplace=True"
   ]
  },
  {
   "cell_type": "code",
   "execution_count": null,
   "id": "f498b970",
   "metadata": {},
   "outputs": [],
   "source": [
    "#Wordcloud function's input needs to be a single string of text.\n",
    "# concatenating all Summaries into a single string.\n",
    "# similarly you can build for Text column\n",
    "reviews_str = reviews_sample.Summary.str.cat()\n",
    "wordcloud = WordCloud(background_color='white').generate(reviews_str)\n",
    "plt.figure(figsize=(10,10))\n",
    "plt.imshow(wordcloud,interpolation='bilinear')\n",
    "plt.axis(\"off\")\n",
    "plt.show()"
   ]
  },
  {
   "cell_type": "code",
   "execution_count": null,
   "id": "4d121872",
   "metadata": {},
   "outputs": [],
   "source": [
    "# Now let's split the data into Negative (Score is 1 or 2) and Positive (4 or 5) Reviews.\n",
    "negative_reviews = reviews_sample[reviews_sample['Score'].isin([1,2]) ]\n",
    "positive_reviews = reviews_sample[reviews_sample['Score'].isin([4,5]) ]\n",
    "# Transform to single string\n",
    "negative_reviews_str = negative_reviews.Summary.str.cat()\n",
    "positive_reviews_str = positive_reviews.Summary.str.cat()"
   ]
  },
  {
   "cell_type": "markdown",
   "id": "09ca5f24",
   "metadata": {},
   "source": [
    "# Create WordCloud"
   ]
  },
  {
   "cell_type": "code",
   "execution_count": null,
   "id": "69191dc8",
   "metadata": {},
   "outputs": [],
   "source": [
    "wordcloud_negative = WordCloud(background_color='white').generate(negative_reviews_str)\n",
    "wordcloud_positive = WordCloud(background_color='black').generate(positive_reviews_str)\n",
    "# Plot\n",
    "fig = plt.figure(figsize=(10,10))\n",
    "ax1 = fig.add_subplot(211)\n",
    "ax1.imshow(wordcloud_negative,interpolation='bilinear')\n",
    "ax1.axis(\"off\")\n",
    "ax1.set_title('Reviews with Negative Scores',fontsize=20)"
   ]
  },
  {
   "cell_type": "code",
   "execution_count": null,
   "id": "53860239",
   "metadata": {},
   "outputs": [],
   "source": [
    "fig = plt.figure(figsize=(10,10))\n",
    "ax2 = fig.add_subplot(212)\n",
    "ax2.imshow(wordcloud_positive,interpolation='bilinear')\n",
    "ax2.axis(\"off\")\n",
    "ax2.set_title('Reviews with Positive Scores',fontsize=20)\n",
    "plt.show()"
   ]
  },
  {
   "cell_type": "markdown",
   "id": "34f8f3ce",
   "metadata": {},
   "source": [
    "# Sentiment Score"
   ]
  },
  {
   "cell_type": "markdown",
   "id": "a49307d2",
   "metadata": {},
   "source": [
    "# Install vaderSentiment"
   ]
  },
  {
   "cell_type": "code",
   "execution_count": null,
   "id": "dae2e8bb",
   "metadata": {},
   "outputs": [],
   "source": [
    "pip install vaderSentiment"
   ]
  },
  {
   "cell_type": "code",
   "execution_count": null,
   "id": "1de7e893",
   "metadata": {},
   "outputs": [],
   "source": [
    "import seaborn as sns\n",
    "import re\n",
    "import os\n",
    "import sys\n",
    "import ast\n",
    "plt.style.use('fivethirtyeight')\n",
    "# Function for getting the sentiment\n",
    "cp = sns.color_palette()\n",
    "from vaderSentiment.vaderSentiment import SentimentIntensityAnalyzer\n",
    "analyzer = SentimentIntensityAnalyzer()"
   ]
  },
  {
   "cell_type": "code",
   "execution_count": null,
   "id": "a9ce11e4",
   "metadata": {},
   "outputs": [],
   "source": [
    "# Generating sentiment for all the sentence present in the dataset\n",
    "emptyline=[]\n",
    "for row in df['Text']:\n",
    "    \n",
    "    vs=analyzer.polarity_scores(row)\n",
    "    emptyline.append(vs)\n",
    "# Creating new dataframe with sentiments\n",
    "df_sentiments=pd.DataFrame(emptyline)\n",
    "df_sentiments.head()"
   ]
  },
  {
   "cell_type": "code",
   "execution_count": null,
   "id": "3901f690",
   "metadata": {},
   "outputs": [],
   "source": [
    "# Merging the sentiments back to reviews dataframe\n",
    "df_c = pd.concat([df.reset_index(drop=True), df_sentiments], axis=1)\n",
    "df_c.head(3)"
   ]
  },
  {
   "cell_type": "code",
   "execution_count": null,
   "id": "78446943",
   "metadata": {},
   "outputs": [],
   "source": [
    "# Convert scores into positive and negetive sentiments using some threshold\n",
    "df_c['Sentiment'] = np.where(df_c['compound'] >= 0 , 'Positive','Negative')\n",
    "df_c.head(5)"
   ]
  },
  {
   "cell_type": "markdown",
   "id": "272a0902",
   "metadata": {},
   "source": [
    "# Result"
   ]
  },
  {
   "cell_type": "code",
   "execution_count": null,
   "id": "3f734b94",
   "metadata": {},
   "outputs": [],
   "source": [
    "result=df_c['Sentiment'].value_counts()\n",
    "result.plot(kind='bar', rot=0, color=['plum','cyan']);"
   ]
  },
  {
   "cell_type": "code",
   "execution_count": null,
   "id": "4a83dd6e",
   "metadata": {},
   "outputs": [],
   "source": []
  },
  {
   "cell_type": "code",
   "execution_count": null,
   "id": "640068d2",
   "metadata": {},
   "outputs": [],
   "source": []
  },
  {
   "cell_type": "markdown",
   "id": "129b1058",
   "metadata": {},
   "source": [
    "# Amazon Fine Food Review Data Analysis Project is Complete.!!"
   ]
  },
  {
   "cell_type": "markdown",
   "id": "39495337",
   "metadata": {},
   "source": [
    "# Thank You.!!"
   ]
  },
  {
   "cell_type": "code",
   "execution_count": null,
   "id": "c7c652ae",
   "metadata": {},
   "outputs": [],
   "source": []
  },
  {
   "cell_type": "code",
   "execution_count": null,
   "id": "2f7fe9f0",
   "metadata": {},
   "outputs": [],
   "source": []
  },
  {
   "cell_type": "code",
   "execution_count": null,
   "id": "aa14cd98",
   "metadata": {},
   "outputs": [],
   "source": []
  },
  {
   "cell_type": "code",
   "execution_count": null,
   "id": "803804ab",
   "metadata": {},
   "outputs": [],
   "source": []
  },
  {
   "cell_type": "code",
   "execution_count": null,
   "id": "36d45d44",
   "metadata": {},
   "outputs": [],
   "source": []
  },
  {
   "cell_type": "code",
   "execution_count": null,
   "id": "8965ef2e",
   "metadata": {},
   "outputs": [],
   "source": []
  },
  {
   "cell_type": "code",
   "execution_count": null,
   "id": "66b38fde",
   "metadata": {},
   "outputs": [],
   "source": []
  },
  {
   "cell_type": "code",
   "execution_count": null,
   "id": "8d9dcc41",
   "metadata": {},
   "outputs": [],
   "source": []
  }
 ],
 "metadata": {
  "kernelspec": {
   "display_name": "Python 3 (ipykernel)",
   "language": "python",
   "name": "python3"
  },
  "language_info": {
   "codemirror_mode": {
    "name": "ipython",
    "version": 3
   },
   "file_extension": ".py",
   "mimetype": "text/x-python",
   "name": "python",
   "nbconvert_exporter": "python",
   "pygments_lexer": "ipython3",
   "version": "3.10.9"
  }
 },
 "nbformat": 4,
 "nbformat_minor": 5
}
