{
 "cells": [
  {
   "cell_type": "code",
   "execution_count": null,
   "id": "8f683893",
   "metadata": {},
   "outputs": [],
   "source": []
  },
  {
   "cell_type": "markdown",
   "id": "db182823",
   "metadata": {},
   "source": [
    "# 1. pd.read_csv()"
   ]
  },
  {
   "cell_type": "code",
   "execution_count": 1,
   "id": "5e6bab05",
   "metadata": {},
   "outputs": [],
   "source": [
    "import pandas as pd\n",
    "import numpy as np\n",
    "import matplotlib.pyplot as plt\n",
    "import seaborn as sns"
   ]
  },
  {
   "cell_type": "code",
   "execution_count": 2,
   "id": "92a70493",
   "metadata": {},
   "outputs": [],
   "source": [
    "df = pd.read_csv('Popular_Baby_Names.csv')"
   ]
  },
  {
   "cell_type": "code",
   "execution_count": 3,
   "id": "118a8350",
   "metadata": {},
   "outputs": [
    {
     "data": {
      "text/html": [
       "<div>\n",
       "<style scoped>\n",
       "    .dataframe tbody tr th:only-of-type {\n",
       "        vertical-align: middle;\n",
       "    }\n",
       "\n",
       "    .dataframe tbody tr th {\n",
       "        vertical-align: top;\n",
       "    }\n",
       "\n",
       "    .dataframe thead th {\n",
       "        text-align: right;\n",
       "    }\n",
       "</style>\n",
       "<table border=\"1\" class=\"dataframe\">\n",
       "  <thead>\n",
       "    <tr style=\"text-align: right;\">\n",
       "      <th></th>\n",
       "      <th>Year of Birth</th>\n",
       "      <th>Gender</th>\n",
       "      <th>Ethnicity</th>\n",
       "      <th>Child's First Name</th>\n",
       "      <th>Count</th>\n",
       "      <th>Rank</th>\n",
       "    </tr>\n",
       "  </thead>\n",
       "  <tbody>\n",
       "    <tr>\n",
       "      <th>0</th>\n",
       "      <td>2011</td>\n",
       "      <td>FEMALE</td>\n",
       "      <td>HISPANIC</td>\n",
       "      <td>GERALDINE</td>\n",
       "      <td>13</td>\n",
       "      <td>75</td>\n",
       "    </tr>\n",
       "    <tr>\n",
       "      <th>1</th>\n",
       "      <td>2011</td>\n",
       "      <td>FEMALE</td>\n",
       "      <td>HISPANIC</td>\n",
       "      <td>GIA</td>\n",
       "      <td>21</td>\n",
       "      <td>67</td>\n",
       "    </tr>\n",
       "    <tr>\n",
       "      <th>2</th>\n",
       "      <td>2011</td>\n",
       "      <td>FEMALE</td>\n",
       "      <td>HISPANIC</td>\n",
       "      <td>GIANNA</td>\n",
       "      <td>49</td>\n",
       "      <td>42</td>\n",
       "    </tr>\n",
       "    <tr>\n",
       "      <th>3</th>\n",
       "      <td>2011</td>\n",
       "      <td>FEMALE</td>\n",
       "      <td>HISPANIC</td>\n",
       "      <td>GISELLE</td>\n",
       "      <td>38</td>\n",
       "      <td>51</td>\n",
       "    </tr>\n",
       "    <tr>\n",
       "      <th>4</th>\n",
       "      <td>2011</td>\n",
       "      <td>FEMALE</td>\n",
       "      <td>HISPANIC</td>\n",
       "      <td>GRACE</td>\n",
       "      <td>36</td>\n",
       "      <td>53</td>\n",
       "    </tr>\n",
       "  </tbody>\n",
       "</table>\n",
       "</div>"
      ],
      "text/plain": [
       "   Year of Birth  Gender Ethnicity Child's First Name  Count  Rank\n",
       "0           2011  FEMALE  HISPANIC          GERALDINE     13    75\n",
       "1           2011  FEMALE  HISPANIC                GIA     21    67\n",
       "2           2011  FEMALE  HISPANIC             GIANNA     49    42\n",
       "3           2011  FEMALE  HISPANIC            GISELLE     38    51\n",
       "4           2011  FEMALE  HISPANIC              GRACE     36    53"
      ]
     },
     "execution_count": 3,
     "metadata": {},
     "output_type": "execute_result"
    }
   ],
   "source": [
    "df.head()"
   ]
  },
  {
   "cell_type": "code",
   "execution_count": 4,
   "id": "2a1de3ca",
   "metadata": {},
   "outputs": [],
   "source": [
    "df = pd.read_csv('Popular_Baby_Names.csv', sep=';', header=0, index_col=0, skiprows=5, na_values='N/A')"
   ]
  },
  {
   "cell_type": "markdown",
   "id": "dd08b5ed",
   "metadata": {},
   "source": [
    "# 2. df.describe()"
   ]
  },
  {
   "cell_type": "code",
   "execution_count": 5,
   "id": "b4c6d3fb",
   "metadata": {},
   "outputs": [
    {
     "ename": "ValueError",
     "evalue": "Cannot describe a DataFrame without columns",
     "output_type": "error",
     "traceback": [
      "\u001b[1;31m---------------------------------------------------------------------------\u001b[0m",
      "\u001b[1;31mValueError\u001b[0m                                Traceback (most recent call last)",
      "Cell \u001b[1;32mIn[5], line 1\u001b[0m\n\u001b[1;32m----> 1\u001b[0m \u001b[43mdf\u001b[49m\u001b[38;5;241;43m.\u001b[39;49m\u001b[43mdescribe\u001b[49m\u001b[43m(\u001b[49m\u001b[43m)\u001b[49m\n",
      "File \u001b[1;32mC:\\ProgramData\\anaconda3\\lib\\site-packages\\pandas\\core\\generic.py:10940\u001b[0m, in \u001b[0;36mNDFrame.describe\u001b[1;34m(self, percentiles, include, exclude, datetime_is_numeric)\u001b[0m\n\u001b[0;32m  10691\u001b[0m \u001b[38;5;129m@final\u001b[39m\n\u001b[0;32m  10692\u001b[0m \u001b[38;5;28;01mdef\u001b[39;00m \u001b[38;5;21mdescribe\u001b[39m(\n\u001b[0;32m  10693\u001b[0m     \u001b[38;5;28mself\u001b[39m: NDFrameT,\n\u001b[1;32m   (...)\u001b[0m\n\u001b[0;32m  10697\u001b[0m     datetime_is_numeric: bool_t \u001b[38;5;241m=\u001b[39m \u001b[38;5;28;01mFalse\u001b[39;00m,\n\u001b[0;32m  10698\u001b[0m ) \u001b[38;5;241m-\u001b[39m\u001b[38;5;241m>\u001b[39m NDFrameT:\n\u001b[0;32m  10699\u001b[0m     \u001b[38;5;124;03m\"\"\"\u001b[39;00m\n\u001b[0;32m  10700\u001b[0m \u001b[38;5;124;03m    Generate descriptive statistics.\u001b[39;00m\n\u001b[0;32m  10701\u001b[0m \n\u001b[1;32m   (...)\u001b[0m\n\u001b[0;32m  10938\u001b[0m \u001b[38;5;124;03m    max            NaN      3.0\u001b[39;00m\n\u001b[0;32m  10939\u001b[0m \u001b[38;5;124;03m    \"\"\"\u001b[39;00m\n\u001b[1;32m> 10940\u001b[0m     \u001b[38;5;28;01mreturn\u001b[39;00m \u001b[43mdescribe_ndframe\u001b[49m\u001b[43m(\u001b[49m\n\u001b[0;32m  10941\u001b[0m \u001b[43m        \u001b[49m\u001b[43mobj\u001b[49m\u001b[38;5;241;43m=\u001b[39;49m\u001b[38;5;28;43mself\u001b[39;49m\u001b[43m,\u001b[49m\n\u001b[0;32m  10942\u001b[0m \u001b[43m        \u001b[49m\u001b[43minclude\u001b[49m\u001b[38;5;241;43m=\u001b[39;49m\u001b[43minclude\u001b[49m\u001b[43m,\u001b[49m\n\u001b[0;32m  10943\u001b[0m \u001b[43m        \u001b[49m\u001b[43mexclude\u001b[49m\u001b[38;5;241;43m=\u001b[39;49m\u001b[43mexclude\u001b[49m\u001b[43m,\u001b[49m\n\u001b[0;32m  10944\u001b[0m \u001b[43m        \u001b[49m\u001b[43mdatetime_is_numeric\u001b[49m\u001b[38;5;241;43m=\u001b[39;49m\u001b[43mdatetime_is_numeric\u001b[49m\u001b[43m,\u001b[49m\n\u001b[0;32m  10945\u001b[0m \u001b[43m        \u001b[49m\u001b[43mpercentiles\u001b[49m\u001b[38;5;241;43m=\u001b[39;49m\u001b[43mpercentiles\u001b[49m\u001b[43m,\u001b[49m\n\u001b[0;32m  10946\u001b[0m \u001b[43m    \u001b[49m\u001b[43m)\u001b[49m\n",
      "File \u001b[1;32mC:\\ProgramData\\anaconda3\\lib\\site-packages\\pandas\\core\\describe.py:94\u001b[0m, in \u001b[0;36mdescribe_ndframe\u001b[1;34m(obj, include, exclude, datetime_is_numeric, percentiles)\u001b[0m\n\u001b[0;32m     89\u001b[0m     describer \u001b[38;5;241m=\u001b[39m SeriesDescriber(\n\u001b[0;32m     90\u001b[0m         obj\u001b[38;5;241m=\u001b[39mcast(\u001b[38;5;124m\"\u001b[39m\u001b[38;5;124mSeries\u001b[39m\u001b[38;5;124m\"\u001b[39m, obj),\n\u001b[0;32m     91\u001b[0m         datetime_is_numeric\u001b[38;5;241m=\u001b[39mdatetime_is_numeric,\n\u001b[0;32m     92\u001b[0m     )\n\u001b[0;32m     93\u001b[0m \u001b[38;5;28;01melse\u001b[39;00m:\n\u001b[1;32m---> 94\u001b[0m     describer \u001b[38;5;241m=\u001b[39m \u001b[43mDataFrameDescriber\u001b[49m\u001b[43m(\u001b[49m\n\u001b[0;32m     95\u001b[0m \u001b[43m        \u001b[49m\u001b[43mobj\u001b[49m\u001b[38;5;241;43m=\u001b[39;49m\u001b[43mcast\u001b[49m\u001b[43m(\u001b[49m\u001b[38;5;124;43m\"\u001b[39;49m\u001b[38;5;124;43mDataFrame\u001b[39;49m\u001b[38;5;124;43m\"\u001b[39;49m\u001b[43m,\u001b[49m\u001b[43m \u001b[49m\u001b[43mobj\u001b[49m\u001b[43m)\u001b[49m\u001b[43m,\u001b[49m\n\u001b[0;32m     96\u001b[0m \u001b[43m        \u001b[49m\u001b[43minclude\u001b[49m\u001b[38;5;241;43m=\u001b[39;49m\u001b[43minclude\u001b[49m\u001b[43m,\u001b[49m\n\u001b[0;32m     97\u001b[0m \u001b[43m        \u001b[49m\u001b[43mexclude\u001b[49m\u001b[38;5;241;43m=\u001b[39;49m\u001b[43mexclude\u001b[49m\u001b[43m,\u001b[49m\n\u001b[0;32m     98\u001b[0m \u001b[43m        \u001b[49m\u001b[43mdatetime_is_numeric\u001b[49m\u001b[38;5;241;43m=\u001b[39;49m\u001b[43mdatetime_is_numeric\u001b[49m\u001b[43m,\u001b[49m\n\u001b[0;32m     99\u001b[0m \u001b[43m    \u001b[49m\u001b[43m)\u001b[49m\n\u001b[0;32m    101\u001b[0m result \u001b[38;5;241m=\u001b[39m describer\u001b[38;5;241m.\u001b[39mdescribe(percentiles\u001b[38;5;241m=\u001b[39mpercentiles)\n\u001b[0;32m    102\u001b[0m \u001b[38;5;28;01mreturn\u001b[39;00m cast(NDFrameT, result)\n",
      "File \u001b[1;32mC:\\ProgramData\\anaconda3\\lib\\site-packages\\pandas\\core\\describe.py:171\u001b[0m, in \u001b[0;36mDataFrameDescriber.__init__\u001b[1;34m(self, obj, include, exclude, datetime_is_numeric)\u001b[0m\n\u001b[0;32m    168\u001b[0m \u001b[38;5;28mself\u001b[39m\u001b[38;5;241m.\u001b[39mexclude \u001b[38;5;241m=\u001b[39m exclude\n\u001b[0;32m    170\u001b[0m \u001b[38;5;28;01mif\u001b[39;00m obj\u001b[38;5;241m.\u001b[39mndim \u001b[38;5;241m==\u001b[39m \u001b[38;5;241m2\u001b[39m \u001b[38;5;129;01mand\u001b[39;00m obj\u001b[38;5;241m.\u001b[39mcolumns\u001b[38;5;241m.\u001b[39msize \u001b[38;5;241m==\u001b[39m \u001b[38;5;241m0\u001b[39m:\n\u001b[1;32m--> 171\u001b[0m     \u001b[38;5;28;01mraise\u001b[39;00m \u001b[38;5;167;01mValueError\u001b[39;00m(\u001b[38;5;124m\"\u001b[39m\u001b[38;5;124mCannot describe a DataFrame without columns\u001b[39m\u001b[38;5;124m\"\u001b[39m)\n\u001b[0;32m    173\u001b[0m \u001b[38;5;28msuper\u001b[39m()\u001b[38;5;241m.\u001b[39m\u001b[38;5;21m__init__\u001b[39m(obj, datetime_is_numeric\u001b[38;5;241m=\u001b[39mdatetime_is_numeric)\n",
      "\u001b[1;31mValueError\u001b[0m: Cannot describe a DataFrame without columns"
     ]
    }
   ],
   "source": [
    "df.describe()"
   ]
  },
  {
   "cell_type": "code",
   "execution_count": null,
   "id": "38fc0acc",
   "metadata": {},
   "outputs": [],
   "source": [
    "df.describe(include='all')  # include all columns"
   ]
  },
  {
   "cell_type": "code",
   "execution_count": null,
   "id": "81e388c5",
   "metadata": {},
   "outputs": [],
   "source": [
    "df.describe(exclude='number') # exclude numerical columns"
   ]
  },
  {
   "cell_type": "markdown",
   "id": "41144d20",
   "metadata": {},
   "source": [
    "# 3. df.info()"
   ]
  },
  {
   "cell_type": "code",
   "execution_count": null,
   "id": "4003e7ea",
   "metadata": {},
   "outputs": [],
   "source": [
    "print(df.info())"
   ]
  },
  {
   "cell_type": "markdown",
   "id": "f26dfb87",
   "metadata": {},
   "source": [
    "# 4. df.plot()"
   ]
  },
  {
   "cell_type": "code",
   "execution_count": null,
   "id": "a250e94d",
   "metadata": {},
   "outputs": [],
   "source": [
    "df['Gender'].value_counts().plot(kind='bar')"
   ]
  },
  {
   "cell_type": "code",
   "execution_count": null,
   "id": "903eee5a",
   "metadata": {},
   "outputs": [],
   "source": [
    "df['Gender'].value_counts().plot(kind='pie')"
   ]
  },
  {
   "cell_type": "code",
   "execution_count": null,
   "id": "681ca121",
   "metadata": {},
   "outputs": [],
   "source": [
    "df['Count'].plot(kind='box')"
   ]
  },
  {
   "cell_type": "markdown",
   "id": "8a42636d",
   "metadata": {},
   "source": [
    "# 5. df.iloc()"
   ]
  },
  {
   "cell_type": "code",
   "execution_count": null,
   "id": "2f3ddb85",
   "metadata": {},
   "outputs": [],
   "source": [
    "# Select the first row\n",
    "print(df.iloc[0])"
   ]
  },
  {
   "cell_type": "code",
   "execution_count": null,
   "id": "94272e5c",
   "metadata": {},
   "outputs": [],
   "source": [
    "# Select the first two rows\n",
    "print(df.iloc[:2])"
   ]
  },
  {
   "cell_type": "code",
   "execution_count": null,
   "id": "e83874db",
   "metadata": {},
   "outputs": [],
   "source": [
    "# Select the first column\n",
    "print(df.iloc[:, 0])"
   ]
  },
  {
   "cell_type": "code",
   "execution_count": null,
   "id": "186d4d18",
   "metadata": {},
   "outputs": [],
   "source": [
    "# Select the first two columns\n",
    "print(df.iloc[:, :2])"
   ]
  },
  {
   "cell_type": "code",
   "execution_count": null,
   "id": "179060cc",
   "metadata": {},
   "outputs": [],
   "source": [
    "# Select the (1, 1) element\n",
    "print(df.iloc[1, 1])"
   ]
  },
  {
   "cell_type": "markdown",
   "id": "6141e080",
   "metadata": {},
   "source": [
    "# 6. df.loc()"
   ]
  },
  {
   "cell_type": "code",
   "execution_count": null,
   "id": "2ed98732",
   "metadata": {},
   "outputs": [],
   "source": [
    "# Select the column name 'Gender'\n",
    "print(df.loc[:,'Gender'])"
   ]
  },
  {
   "cell_type": "code",
   "execution_count": null,
   "id": "79c2c55b",
   "metadata": {},
   "outputs": [],
   "source": [
    "# Select the columns named 'Year of Birth' and 'Gender'\n",
    "print(df.loc[:, ['Year of Birth', 'Gender']])"
   ]
  },
  {
   "cell_type": "markdown",
   "id": "29354f5c",
   "metadata": {},
   "source": [
    "# 7. df.assign()"
   ]
  },
  {
   "cell_type": "code",
   "execution_count": null,
   "id": "13328209",
   "metadata": {},
   "outputs": [],
   "source": [
    "df_new = df.assign(count_plus_5=df['Count'] + 5)\n",
    "df_new.head()"
   ]
  },
  {
   "cell_type": "markdown",
   "id": "e2cff29a",
   "metadata": {},
   "source": [
    "# 8. df.query()"
   ]
  },
  {
   "cell_type": "code",
   "execution_count": null,
   "id": "b7989167",
   "metadata": {},
   "outputs": [],
   "source": [
    "# Select rows where age is greater than 30 and income is less than 65000\n",
    "df_query = df.query('Count > 30 and Rank < 20')\n",
    "df_query.head()"
   ]
  },
  {
   "cell_type": "code",
   "execution_count": null,
   "id": "9e56408a",
   "metadata": {},
   "outputs": [],
   "source": [
    "# Select rows where gender is Male\n",
    "df_query = df.query(\"Gender == 'MALE'\")\n",
    "df_query.head()"
   ]
  },
  {
   "cell_type": "markdown",
   "id": "bcfde224",
   "metadata": {},
   "source": [
    "# 9. df.sort_values()"
   ]
  },
  {
   "cell_type": "code",
   "execution_count": null,
   "id": "a0962ce7",
   "metadata": {},
   "outputs": [],
   "source": [
    "# Sort by age in ascending order\n",
    "df_sorted = df.sort_values(by='Count')\n",
    "df_sorted.head()"
   ]
  },
  {
   "cell_type": "code",
   "execution_count": null,
   "id": "8920abae",
   "metadata": {},
   "outputs": [],
   "source": [
    "# Sort by income in descending order\n",
    "df_sorted = df.sort_values(by='Rank', ascending=False)\n",
    "df_sorted.head()"
   ]
  },
  {
   "cell_type": "code",
   "execution_count": null,
   "id": "d7361e28",
   "metadata": {},
   "outputs": [],
   "source": [
    "# Sort by multiple columns\n",
    "df_sorted = df.sort_values(by=['Count', 'Rank'])\n",
    "df_sorted.head()"
   ]
  },
  {
   "cell_type": "markdown",
   "id": "6f2fcbd3",
   "metadata": {},
   "source": [
    "# 10. df.sample()"
   ]
  },
  {
   "cell_type": "code",
   "execution_count": null,
   "id": "396d398c",
   "metadata": {},
   "outputs": [],
   "source": [
    "# Sample 2 rows without replacement\n",
    "df_sample = df.sample(n=2, replace=False, random_state=1)\n",
    "df_sample"
   ]
  },
  {
   "cell_type": "code",
   "execution_count": null,
   "id": "7c741233",
   "metadata": {},
   "outputs": [],
   "source": [
    "# Sample 3 rows with replacement\n",
    "df_sample = df.sample(n=3, replace=True, random_state=1)\n",
    "df_sample"
   ]
  },
  {
   "cell_type": "code",
   "execution_count": null,
   "id": "da5c4c2e",
   "metadata": {},
   "outputs": [],
   "source": [
    "# Sample 2 rows without replacement with specific column to be chosen\n",
    "df_sample = df.sample(n=2, replace=False, random_state=1, axis=1)\n",
    "df_sample"
   ]
  },
  {
   "cell_type": "markdown",
   "id": "4341c8bc",
   "metadata": {},
   "source": [
    "# 11. df.isnull()"
   ]
  },
  {
   "cell_type": "code",
   "execution_count": null,
   "id": "3703b6aa",
   "metadata": {},
   "outputs": [],
   "source": [
    "df.isnull()"
   ]
  },
  {
   "cell_type": "markdown",
   "id": "ffd731df",
   "metadata": {},
   "source": [
    "# 12. df.fillna()"
   ]
  },
  {
   "cell_type": "code",
   "execution_count": null,
   "id": "2a6f3335",
   "metadata": {},
   "outputs": [],
   "source": [
    "# fill missing values with 0\n",
    "df.fillna(0)\n",
    "\n",
    "# forward-fill missing values (propagates last valid observation forward to next)\n",
    "df.fillna(method='ffill')\n",
    "\n",
    "# backward-fill missing values (propagates next valid observation backward to last)\n",
    "df.fillna(method='bfill')\n",
    "\n",
    "# fill missing values using interpolation\n",
    "df.interpolate()"
   ]
  },
  {
   "cell_type": "code",
   "execution_count": null,
   "id": "40d367a1",
   "metadata": {},
   "outputs": [],
   "source": [
    "# fill missing values in place\n",
    "df.fillna(0, inplace=True)"
   ]
  },
  {
   "cell_type": "markdown",
   "id": "71736b86",
   "metadata": {},
   "source": [
    "# 13. df.dropna()"
   ]
  },
  {
   "cell_type": "code",
   "execution_count": null,
   "id": "71f7c41b",
   "metadata": {},
   "outputs": [],
   "source": [
    "df = df.dropna()"
   ]
  },
  {
   "cell_type": "code",
   "execution_count": null,
   "id": "bf1871b9",
   "metadata": {},
   "outputs": [],
   "source": [
    "df = df.dropna(axis=1)"
   ]
  },
  {
   "cell_type": "code",
   "execution_count": null,
   "id": "ac0fa4f0",
   "metadata": {},
   "outputs": [],
   "source": [
    "df = df.dropna(thresh=2)"
   ]
  },
  {
   "cell_type": "markdown",
   "id": "9846306b",
   "metadata": {},
   "source": [
    "# 14. df.drop()"
   ]
  },
  {
   "cell_type": "code",
   "execution_count": null,
   "id": "47944007",
   "metadata": {},
   "outputs": [],
   "source": [
    "df_drop = df.drop(0)"
   ]
  },
  {
   "cell_type": "code",
   "execution_count": null,
   "id": "e8564559",
   "metadata": {},
   "outputs": [],
   "source": [
    "df_drop = df.drop([0,1])"
   ]
  },
  {
   "cell_type": "code",
   "execution_count": null,
   "id": "4d9a0e94",
   "metadata": {},
   "outputs": [],
   "source": [
    "df_drop = df.drop(['Count', 'Rank'], axis=1)"
   ]
  },
  {
   "cell_type": "markdown",
   "id": "b1c9c169",
   "metadata": {},
   "source": [
    "# 15. pd.pivot_table()"
   ]
  },
  {
   "cell_type": "code",
   "execution_count": null,
   "id": "dc4ec5da",
   "metadata": {},
   "outputs": [],
   "source": [
    "pivot_table = pd.pivot_table(df, index='Ethnicity', values='Count', aggfunc='sum')\n",
    "pivot_table.head()"
   ]
  },
  {
   "cell_type": "code",
   "execution_count": null,
   "id": "b87eac11",
   "metadata": {},
   "outputs": [],
   "source": [
    "pivot_table = pd.pivot_table(df, index=['Ethnicity','Gender'], values= 'Count' , aggfunc=['sum','count'])\n",
    "pivot_table.head(20)"
   ]
  },
  {
   "cell_type": "markdown",
   "id": "713e96ba",
   "metadata": {},
   "source": [
    "# 16. df.groupby()"
   ]
  },
  {
   "cell_type": "code",
   "execution_count": null,
   "id": "3c919345",
   "metadata": {},
   "outputs": [],
   "source": [
    "grouped = df.groupby('Gender')\n",
    "# Print the mean of each group\n",
    "print(grouped.mean())"
   ]
  },
  {
   "cell_type": "code",
   "execution_count": null,
   "id": "f65658a3",
   "metadata": {},
   "outputs": [],
   "source": [
    "grouped = df.groupby(['Gender', 'Ethnicity'])\n",
    "\n",
    "# Print the sum of each group\n",
    "print(grouped.sum())"
   ]
  },
  {
   "cell_type": "markdown",
   "id": "1ef851cf",
   "metadata": {},
   "source": [
    "# 17. df.transpose()"
   ]
  },
  {
   "cell_type": "code",
   "execution_count": null,
   "id": "262a0291",
   "metadata": {},
   "outputs": [],
   "source": [
    "# Transpose the DataFrame\n",
    "df_transposed = df.transpose()\n",
    "\n",
    "# Print the transposed DataFrame\n",
    "df_transposed.head()"
   ]
  },
  {
   "cell_type": "code",
   "execution_count": null,
   "id": "caf60f74",
   "metadata": {},
   "outputs": [],
   "source": [
    "df_transposed = df.T\n",
    "df_transposed.head()"
   ]
  },
  {
   "cell_type": "markdown",
   "id": "5eab59e2",
   "metadata": {},
   "source": [
    "# 18. df.merge()"
   ]
  },
  {
   "cell_type": "code",
   "execution_count": null,
   "id": "7f38f2b5",
   "metadata": {},
   "outputs": [],
   "source": [
    "# Create the first DataFrame\n",
    "df1 = pd.DataFrame({'key': ['A', 'B', 'C', 'D'],\n",
    "                   'value': [1, 2, 3, 4]})\n",
    "\n",
    "# Create the second DataFrame\n",
    "df2 = pd.DataFrame({'key': ['B', 'D', 'E', 'F'],\n",
    "                   'value': [5, 6, 7, 8]})\n",
    "\n",
    "# Merge the two DataFrames on the 'key' column\n",
    "merged_df = df1.merge(df2, on='key')\n",
    "\n",
    "# Print the merged DataFrame\n",
    "print(merged_df)"
   ]
  },
  {
   "cell_type": "code",
   "execution_count": null,
   "id": "eb2e9e58",
   "metadata": {},
   "outputs": [],
   "source": [
    "merged_df = df1.merge(df2, on=['key1','key2'])\n"
   ]
  },
  {
   "cell_type": "code",
   "execution_count": null,
   "id": "9916765c",
   "metadata": {},
   "outputs": [],
   "source": [
    "merged_df = df1.merge(df2, left_on='key1', right_on='key3')"
   ]
  },
  {
   "cell_type": "markdown",
   "id": "4657fed8",
   "metadata": {},
   "source": [
    "# 19. df.rename()"
   ]
  },
  {
   "cell_type": "code",
   "execution_count": null,
   "id": "44939319",
   "metadata": {},
   "outputs": [],
   "source": [
    "# Rename column 'Count' to 'count'\n",
    "df_rename = df.rename(columns={'Count': 'count'})\n",
    "df_rename.head()"
   ]
  },
  {
   "cell_type": "code",
   "execution_count": null,
   "id": "1cbfe65f",
   "metadata": {},
   "outputs": [],
   "source": [
    "df_rename = df.rename(columns={'Count': 'count', 'Rank':'rank'})\n",
    "df_rename.head()"
   ]
  },
  {
   "cell_type": "code",
   "execution_count": null,
   "id": "c64c31e9",
   "metadata": {},
   "outputs": [],
   "source": [
    "df_rename = df.rename(index={0:'first',1:'second',2:'third'})\n",
    "df_rename.head()"
   ]
  },
  {
   "cell_type": "code",
   "execution_count": null,
   "id": "8173eb04",
   "metadata": {},
   "outputs": [],
   "source": []
  },
  {
   "cell_type": "markdown",
   "id": "972b452f",
   "metadata": {},
   "source": [
    "# Popular Baby Name Project is Completed. !!!"
   ]
  },
  {
   "cell_type": "markdown",
   "id": "30576358",
   "metadata": {},
   "source": [
    "# THANK YOU !!"
   ]
  },
  {
   "cell_type": "code",
   "execution_count": null,
   "id": "78315535",
   "metadata": {},
   "outputs": [],
   "source": []
  },
  {
   "cell_type": "code",
   "execution_count": null,
   "id": "69cd5b6e",
   "metadata": {},
   "outputs": [],
   "source": []
  }
 ],
 "metadata": {
  "kernelspec": {
   "display_name": "Python 3 (ipykernel)",
   "language": "python",
   "name": "python3"
  },
  "language_info": {
   "codemirror_mode": {
    "name": "ipython",
    "version": 3
   },
   "file_extension": ".py",
   "mimetype": "text/x-python",
   "name": "python",
   "nbconvert_exporter": "python",
   "pygments_lexer": "ipython3",
   "version": "3.10.9"
  }
 },
 "nbformat": 4,
 "nbformat_minor": 5
}
